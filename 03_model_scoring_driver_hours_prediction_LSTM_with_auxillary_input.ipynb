{
 "cells": [
  {
   "cell_type": "markdown",
   "metadata": {},
   "source": [
    "# Forecasting by LSTM Prediction"
   ]
  },
  {
   "cell_type": "markdown",
   "metadata": {},
   "source": [
    "# Test Data Preparation"
   ]
  },
  {
   "cell_type": "markdown",
   "metadata": {},
   "source": [
    "The transformed ping train dataset from 01_data_preparation_driver_hours_prediction_LSTM_with_auxillary_input is loaded and merged to the test data ping dataset. The test ping dataset is first processed similar to the train dataset. First transaction information is converted to long format individual records from pings.csv by driver ID. Online hours are computed by counting the number of pings on any given day. Drivers without any ping data on a day are assumed to be offline on that day i.e. 0 hours online."
   ]
  },
  {
   "cell_type": "code",
   "execution_count": 105,
   "metadata": {},
   "outputs": [],
   "source": [
    "from matplotlib import pyplot as plt\n",
    "import seaborn as sns\n",
    "sns.set_style('darkgrid')\n",
    "%matplotlib inline\n",
    "\n",
    "import pandas as pd\n",
    "import os\n",
    "import datetime\n",
    "import numpy as np\n",
    "\n",
    "from sklearn.metrics import mean_squared_error\n",
    "from math import sqrt"
   ]
  },
  {
   "cell_type": "code",
   "execution_count": 3,
   "metadata": {},
   "outputs": [],
   "source": [
    "# data prep helper functions\n",
    "def read_csv(path, sep=\",\", sortby=[]):\n",
    "    '''\n",
    "    read csv files\n",
    "    '''\n",
    "    # load data\n",
    "    data = pd.read_csv(path, sep=sep)\n",
    "    \n",
    "    # sort and reindex\n",
    "    data = data.sort_values(sortby, ascending=False)\n",
    "    data = data.reset_index(drop=True)\n",
    "    \n",
    "    print(\"Data loading & sorting completed\")\n",
    "    print(\"Total Observation: \", data.shape[0])\n",
    "    return data\n",
    "\n",
    "def check_data(data):\n",
    "    '''\n",
    "    check data for duplicates and missing values\n",
    "    '''\n",
    "    # Drop duplicates\n",
    "    initial_nrow = data.shape[0]\n",
    "    data.drop_duplicates()\n",
    "    post_nrow = data.shape[0]\n",
    "    print(\"Total duplicates dropped: \", initial_nrow - post_nrow)\n",
    "    \n",
    "    # Empty columns - Find NaN counts per columns\n",
    "    null_columns = data.columns[data.isnull().any()]\n",
    "    if len(null_columns)==0:\n",
    "        print(\"No missing values\")\n",
    "    else:\n",
    "        print(\"Missing values found in: \", null_columns)\n",
    "        print(\"Missing counts in missing columns: \", data[null_columns].isnull().sum())\n",
    "\n",
    "\n",
    "def prep_test_ping_data(data, uni_id, uni_dt):\n",
    "    '''\n",
    "    create dataset for online hours per day per driver. Modifications are made to prep_ping_data()\n",
    "    '''\n",
    "    driver_ping_summary = []\n",
    "\n",
    "    id_counter = 0\n",
    "    total_id = len(uni_id)\n",
    "    days = len(uni_dt)\n",
    "    \n",
    "    for ID in uni_id:\n",
    "        id_counter += 1\n",
    "        tmp = data[data['driver_id'] == ID]\n",
    "        day_counter = days + 1\n",
    "        for dt in uni_dt:\n",
    "            day_counter -= 1\n",
    "            tmp_dt = tmp[tmp['ping_date'] == dt]\n",
    "            if tmp_dt.shape[0] > 0:\n",
    "                online_hr = int(tmp_dt['online_hrs'].values[0])\n",
    "                if tmp_dt.shape[0] > 1:\n",
    "                    print('{}....Check ID'.format(ID))\n",
    "            else:\n",
    "                 online_hr = 0 #assume 0 hrs driven if no pings\n",
    "            driver_ping_summary.append({'driver_id':ID, 'date': dt ,'online_hrs': online_hr, 'day_count': day_counter})\n",
    "        if id_counter % 249 == 0:\n",
    "            print((\"Completed driver {}/{}\").format(id_counter, total_id))\n",
    "    return pd.DataFrame(driver_ping_summary)"
   ]
  },
  {
   "cell_type": "code",
   "execution_count": 4,
   "metadata": {},
   "outputs": [],
   "source": [
    "# define data folder path\n",
    "CWD = os.getcwd()\n",
    "DATA = CWD + \"\\\\data\\\\\""
   ]
  },
  {
   "cell_type": "markdown",
   "metadata": {},
   "source": [
    "## Train Ping Data\n",
    "\n",
    "Load the train ping data tranformed from 01_data_preparation_driver_hours_prediction_LSTM_with_auxillary_input"
   ]
  },
  {
   "cell_type": "code",
   "execution_count": 5,
   "metadata": {},
   "outputs": [
    {
     "name": "stdout",
     "output_type": "stream",
     "text": [
      "Data loading & sorting completed\n",
      "Total Observation:  2483\n"
     ]
    },
    {
     "data": {
      "text/html": [
       "<div>\n",
       "<style scoped>\n",
       "    .dataframe tbody tr th:only-of-type {\n",
       "        vertical-align: middle;\n",
       "    }\n",
       "\n",
       "    .dataframe tbody tr th {\n",
       "        vertical-align: top;\n",
       "    }\n",
       "\n",
       "    .dataframe thead th {\n",
       "        text-align: right;\n",
       "    }\n",
       "</style>\n",
       "<table border=\"1\" class=\"dataframe\">\n",
       "  <thead>\n",
       "    <tr style=\"text-align: right;\">\n",
       "      <th></th>\n",
       "      <th>2017-06-01</th>\n",
       "      <th>2017-06-02</th>\n",
       "      <th>2017-06-03</th>\n",
       "      <th>2017-06-04</th>\n",
       "      <th>2017-06-05</th>\n",
       "      <th>2017-06-06</th>\n",
       "      <th>2017-06-07</th>\n",
       "      <th>2017-06-08</th>\n",
       "      <th>2017-06-09</th>\n",
       "      <th>2017-06-10</th>\n",
       "      <th>...</th>\n",
       "      <th>2017-06-17</th>\n",
       "      <th>2017-06-18</th>\n",
       "      <th>2017-06-19</th>\n",
       "      <th>2017-06-20</th>\n",
       "      <th>2017-06-21</th>\n",
       "      <th>gender</th>\n",
       "      <th>age</th>\n",
       "      <th>number_of_kids</th>\n",
       "      <th>isMALE</th>\n",
       "      <th>hasKids</th>\n",
       "    </tr>\n",
       "    <tr>\n",
       "      <th>driver_id</th>\n",
       "      <th></th>\n",
       "      <th></th>\n",
       "      <th></th>\n",
       "      <th></th>\n",
       "      <th></th>\n",
       "      <th></th>\n",
       "      <th></th>\n",
       "      <th></th>\n",
       "      <th></th>\n",
       "      <th></th>\n",
       "      <th></th>\n",
       "      <th></th>\n",
       "      <th></th>\n",
       "      <th></th>\n",
       "      <th></th>\n",
       "      <th></th>\n",
       "      <th></th>\n",
       "      <th></th>\n",
       "      <th></th>\n",
       "      <th></th>\n",
       "      <th></th>\n",
       "    </tr>\n",
       "  </thead>\n",
       "  <tbody>\n",
       "    <tr>\n",
       "      <th>998229</th>\n",
       "      <td>7</td>\n",
       "      <td>5</td>\n",
       "      <td>4</td>\n",
       "      <td>5</td>\n",
       "      <td>7</td>\n",
       "      <td>7</td>\n",
       "      <td>7</td>\n",
       "      <td>7</td>\n",
       "      <td>7</td>\n",
       "      <td>7</td>\n",
       "      <td>...</td>\n",
       "      <td>4</td>\n",
       "      <td>5</td>\n",
       "      <td>7</td>\n",
       "      <td>0</td>\n",
       "      <td>7</td>\n",
       "      <td>MALE</td>\n",
       "      <td>31</td>\n",
       "      <td>0</td>\n",
       "      <td>1</td>\n",
       "      <td>0</td>\n",
       "    </tr>\n",
       "    <tr>\n",
       "      <th>998215</th>\n",
       "      <td>4</td>\n",
       "      <td>5</td>\n",
       "      <td>0</td>\n",
       "      <td>0</td>\n",
       "      <td>5</td>\n",
       "      <td>5</td>\n",
       "      <td>0</td>\n",
       "      <td>3</td>\n",
       "      <td>6</td>\n",
       "      <td>0</td>\n",
       "      <td>...</td>\n",
       "      <td>0</td>\n",
       "      <td>0</td>\n",
       "      <td>6</td>\n",
       "      <td>5</td>\n",
       "      <td>4</td>\n",
       "      <td>FEMALE</td>\n",
       "      <td>52</td>\n",
       "      <td>2</td>\n",
       "      <td>0</td>\n",
       "      <td>1</td>\n",
       "    </tr>\n",
       "    <tr>\n",
       "      <th>997510</th>\n",
       "      <td>5</td>\n",
       "      <td>7</td>\n",
       "      <td>4</td>\n",
       "      <td>4</td>\n",
       "      <td>3</td>\n",
       "      <td>5</td>\n",
       "      <td>6</td>\n",
       "      <td>4</td>\n",
       "      <td>5</td>\n",
       "      <td>4</td>\n",
       "      <td>...</td>\n",
       "      <td>6</td>\n",
       "      <td>3</td>\n",
       "      <td>4</td>\n",
       "      <td>4</td>\n",
       "      <td>3</td>\n",
       "      <td>MALE</td>\n",
       "      <td>61</td>\n",
       "      <td>3</td>\n",
       "      <td>1</td>\n",
       "      <td>1</td>\n",
       "    </tr>\n",
       "    <tr>\n",
       "      <th>997500</th>\n",
       "      <td>7</td>\n",
       "      <td>4</td>\n",
       "      <td>5</td>\n",
       "      <td>0</td>\n",
       "      <td>4</td>\n",
       "      <td>3</td>\n",
       "      <td>5</td>\n",
       "      <td>6</td>\n",
       "      <td>3</td>\n",
       "      <td>7</td>\n",
       "      <td>...</td>\n",
       "      <td>6</td>\n",
       "      <td>0</td>\n",
       "      <td>4</td>\n",
       "      <td>5</td>\n",
       "      <td>6</td>\n",
       "      <td>MALE</td>\n",
       "      <td>54</td>\n",
       "      <td>1</td>\n",
       "      <td>1</td>\n",
       "      <td>1</td>\n",
       "    </tr>\n",
       "    <tr>\n",
       "      <th>997190</th>\n",
       "      <td>2</td>\n",
       "      <td>2</td>\n",
       "      <td>2</td>\n",
       "      <td>1</td>\n",
       "      <td>3</td>\n",
       "      <td>0</td>\n",
       "      <td>4</td>\n",
       "      <td>0</td>\n",
       "      <td>2</td>\n",
       "      <td>1</td>\n",
       "      <td>...</td>\n",
       "      <td>1</td>\n",
       "      <td>1</td>\n",
       "      <td>1</td>\n",
       "      <td>1</td>\n",
       "      <td>1</td>\n",
       "      <td>FEMALE</td>\n",
       "      <td>20</td>\n",
       "      <td>0</td>\n",
       "      <td>0</td>\n",
       "      <td>0</td>\n",
       "    </tr>\n",
       "  </tbody>\n",
       "</table>\n",
       "<p>5 rows × 26 columns</p>\n",
       "</div>"
      ],
      "text/plain": [
       "           2017-06-01  2017-06-02  2017-06-03  2017-06-04  2017-06-05  \\\n",
       "driver_id                                                               \n",
       "998229              7           5           4           5           7   \n",
       "998215              4           5           0           0           5   \n",
       "997510              5           7           4           4           3   \n",
       "997500              7           4           5           0           4   \n",
       "997190              2           2           2           1           3   \n",
       "\n",
       "           2017-06-06  2017-06-07  2017-06-08  2017-06-09  2017-06-10  ...  \\\n",
       "driver_id                                                              ...   \n",
       "998229              7           7           7           7           7  ...   \n",
       "998215              5           0           3           6           0  ...   \n",
       "997510              5           6           4           5           4  ...   \n",
       "997500              3           5           6           3           7  ...   \n",
       "997190              0           4           0           2           1  ...   \n",
       "\n",
       "           2017-06-17  2017-06-18  2017-06-19  2017-06-20  2017-06-21  gender  \\\n",
       "driver_id                                                                       \n",
       "998229              4           5           7           0           7    MALE   \n",
       "998215              0           0           6           5           4  FEMALE   \n",
       "997510              6           3           4           4           3    MALE   \n",
       "997500              6           0           4           5           6    MALE   \n",
       "997190              1           1           1           1           1  FEMALE   \n",
       "\n",
       "           age  number_of_kids  isMALE  hasKids  \n",
       "driver_id                                        \n",
       "998229      31               0       1        0  \n",
       "998215      52               2       0        1  \n",
       "997510      61               3       1        1  \n",
       "997500      54               1       1        1  \n",
       "997190      20               0       0        0  \n",
       "\n",
       "[5 rows x 26 columns]"
      ]
     },
     "execution_count": 5,
     "metadata": {},
     "output_type": "execute_result"
    }
   ],
   "source": [
    "# load train data\n",
    "piv_driver_ping_summary = read_csv(DATA+\"merged_driver_and_ping_data.csv\", sortby=['driver_id'])\n",
    "piv_driver_ping_summary = piv_driver_ping_summary.drop([\"Unnamed: 0\"], axis=1)\n",
    "piv_driver_ping_summary.set_index(\"driver_id\", inplace=True)\n",
    "piv_driver_ping_summary.head()"
   ]
  },
  {
   "cell_type": "markdown",
   "metadata": {},
   "source": [
    "## Test Ping Data\n",
    "\n",
    "Prepare test data "
   ]
  },
  {
   "cell_type": "code",
   "execution_count": 9,
   "metadata": {},
   "outputs": [
    {
     "name": "stdout",
     "output_type": "stream",
     "text": [
      "Data loading & sorting completed\n",
      "Total Observation:  17500\n"
     ]
    }
   ],
   "source": [
    "# Load test data and reindex\n",
    "test_data = read_csv(DATA+\"test.csv\", sortby=['driver_id'])"
   ]
  },
  {
   "cell_type": "code",
   "execution_count": 10,
   "metadata": {},
   "outputs": [
    {
     "name": "stdout",
     "output_type": "stream",
     "text": [
      "Total duplicates dropped:  0\n",
      "No missing values\n"
     ]
    }
   ],
   "source": [
    "# Check test pings data for duplicates and missing values\n",
    "check_data(test_data)"
   ]
  },
  {
   "cell_type": "code",
   "execution_count": 11,
   "metadata": {},
   "outputs": [],
   "source": [
    "# Convert Date\n",
    "test_data = test_data.rename({'date':'ping_date', 'online_hours':'online_hrs'}, axis=1)\n",
    "test_data['ping_date'] = pd.to_datetime(test_data['ping_date'])\n",
    "test_data['ping_date'] = test_data['ping_date'].dt.tz_localize('Asia/Jakarta')\n",
    "test_data['ping_date']= test_data['ping_date'].dt.date"
   ]
  },
  {
   "cell_type": "code",
   "execution_count": 12,
   "metadata": {},
   "outputs": [],
   "source": [
    "# remove three drivers - some exploration lead to the repetition discovery \n",
    "# e.g. same date with two different online_hrs values [800600, 799250, 320227]\n",
    "test_data = test_data[~(test_data.driver_id.isin([800600, 799250, 320227]))]"
   ]
  },
  {
   "cell_type": "code",
   "execution_count": 13,
   "metadata": {},
   "outputs": [],
   "source": [
    "# Determine time online per driver per day\n",
    "uni_drive_id_test = test_data['driver_id'].unique()\n",
    "uni_ping_dt_test =  test_data['ping_date'].unique()"
   ]
  },
  {
   "cell_type": "code",
   "execution_count": 14,
   "metadata": {},
   "outputs": [
    {
     "name": "stdout",
     "output_type": "stream",
     "text": [
      "Completed driver 86/2494\n",
      "Completed driver 172/2494\n",
      "Completed driver 258/2494\n",
      "Completed driver 344/2494\n",
      "Completed driver 430/2494\n",
      "Completed driver 516/2494\n",
      "Completed driver 602/2494\n",
      "Completed driver 688/2494\n",
      "Completed driver 774/2494\n",
      "Completed driver 860/2494\n",
      "Completed driver 946/2494\n",
      "Completed driver 1032/2494\n",
      "Completed driver 1118/2494\n",
      "Completed driver 1204/2494\n",
      "Completed driver 1290/2494\n",
      "Completed driver 1376/2494\n",
      "Completed driver 1462/2494\n",
      "Completed driver 1548/2494\n",
      "Completed driver 1634/2494\n",
      "Completed driver 1720/2494\n",
      "Completed driver 1806/2494\n",
      "Completed driver 1892/2494\n",
      "Completed driver 1978/2494\n",
      "Completed driver 2064/2494\n",
      "Completed driver 2150/2494\n",
      "Completed driver 2236/2494\n",
      "Completed driver 2322/2494\n",
      "Completed driver 2408/2494\n",
      "Completed driver 2494/2494\n"
     ]
    }
   ],
   "source": [
    "# create dataset for online hours per day per driver\n",
    "driver_ping_summary_test = prep_test_ping_data(test_data, uni_drive_id_test, uni_ping_dt_test)"
   ]
  },
  {
   "cell_type": "code",
   "execution_count": 15,
   "metadata": {},
   "outputs": [],
   "source": [
    "# pivot data - each row is one driver\n",
    "piv_driver_ping_summary_test = driver_ping_summary_test.pivot_table(values='online_hrs', index='driver_id', columns='date')"
   ]
  },
  {
   "cell_type": "code",
   "execution_count": 16,
   "metadata": {},
   "outputs": [
    {
     "data": {
      "text/html": [
       "<div>\n",
       "<style scoped>\n",
       "    .dataframe tbody tr th:only-of-type {\n",
       "        vertical-align: middle;\n",
       "    }\n",
       "\n",
       "    .dataframe tbody tr th {\n",
       "        vertical-align: top;\n",
       "    }\n",
       "\n",
       "    .dataframe thead th {\n",
       "        text-align: right;\n",
       "    }\n",
       "</style>\n",
       "<table border=\"1\" class=\"dataframe\">\n",
       "  <thead>\n",
       "    <tr style=\"text-align: right;\">\n",
       "      <th>date</th>\n",
       "      <th>2017-06-22</th>\n",
       "      <th>2017-06-23</th>\n",
       "      <th>2017-06-24</th>\n",
       "      <th>2017-06-25</th>\n",
       "      <th>2017-06-26</th>\n",
       "      <th>2017-06-27</th>\n",
       "      <th>2017-06-28</th>\n",
       "    </tr>\n",
       "    <tr>\n",
       "      <th>driver_id</th>\n",
       "      <th></th>\n",
       "      <th></th>\n",
       "      <th></th>\n",
       "      <th></th>\n",
       "      <th></th>\n",
       "      <th></th>\n",
       "      <th></th>\n",
       "    </tr>\n",
       "  </thead>\n",
       "  <tbody>\n",
       "    <tr>\n",
       "      <th>111556</th>\n",
       "      <td>2</td>\n",
       "      <td>5</td>\n",
       "      <td>0</td>\n",
       "      <td>0</td>\n",
       "      <td>0</td>\n",
       "      <td>3</td>\n",
       "      <td>3</td>\n",
       "    </tr>\n",
       "    <tr>\n",
       "      <th>111575</th>\n",
       "      <td>9</td>\n",
       "      <td>0</td>\n",
       "      <td>0</td>\n",
       "      <td>0</td>\n",
       "      <td>9</td>\n",
       "      <td>6</td>\n",
       "      <td>0</td>\n",
       "    </tr>\n",
       "    <tr>\n",
       "      <th>111779</th>\n",
       "      <td>2</td>\n",
       "      <td>5</td>\n",
       "      <td>0</td>\n",
       "      <td>0</td>\n",
       "      <td>0</td>\n",
       "      <td>2</td>\n",
       "      <td>4</td>\n",
       "    </tr>\n",
       "    <tr>\n",
       "      <th>111839</th>\n",
       "      <td>8</td>\n",
       "      <td>8</td>\n",
       "      <td>9</td>\n",
       "      <td>10</td>\n",
       "      <td>9</td>\n",
       "      <td>8</td>\n",
       "      <td>10</td>\n",
       "    </tr>\n",
       "    <tr>\n",
       "      <th>112486</th>\n",
       "      <td>1</td>\n",
       "      <td>2</td>\n",
       "      <td>0</td>\n",
       "      <td>0</td>\n",
       "      <td>5</td>\n",
       "      <td>1</td>\n",
       "      <td>4</td>\n",
       "    </tr>\n",
       "  </tbody>\n",
       "</table>\n",
       "</div>"
      ],
      "text/plain": [
       "date       2017-06-22  2017-06-23  2017-06-24  2017-06-25  2017-06-26  \\\n",
       "driver_id                                                               \n",
       "111556              2           5           0           0           0   \n",
       "111575              9           0           0           0           9   \n",
       "111779              2           5           0           0           0   \n",
       "111839              8           8           9          10           9   \n",
       "112486              1           2           0           0           5   \n",
       "\n",
       "date       2017-06-27  2017-06-28  \n",
       "driver_id                          \n",
       "111556              3           3  \n",
       "111575              6           0  \n",
       "111779              2           4  \n",
       "111839              8          10  \n",
       "112486              1           4  "
      ]
     },
     "execution_count": 16,
     "metadata": {},
     "output_type": "execute_result"
    }
   ],
   "source": [
    "# check pivoted data\n",
    "piv_driver_ping_summary_test[0:5]"
   ]
  },
  {
   "cell_type": "markdown",
   "metadata": {},
   "source": [
    "## Merge Train and Test Ping Data"
   ]
  },
  {
   "cell_type": "code",
   "execution_count": 34,
   "metadata": {},
   "outputs": [
    {
     "name": "stdout",
     "output_type": "stream",
     "text": [
      "(2477, 19)\n"
     ]
    },
    {
     "data": {
      "text/html": [
       "<div>\n",
       "<style scoped>\n",
       "    .dataframe tbody tr th:only-of-type {\n",
       "        vertical-align: middle;\n",
       "    }\n",
       "\n",
       "    .dataframe tbody tr th {\n",
       "        vertical-align: top;\n",
       "    }\n",
       "\n",
       "    .dataframe thead th {\n",
       "        text-align: right;\n",
       "    }\n",
       "</style>\n",
       "<table border=\"1\" class=\"dataframe\">\n",
       "  <thead>\n",
       "    <tr style=\"text-align: right;\">\n",
       "      <th></th>\n",
       "      <th>2017-06-15</th>\n",
       "      <th>2017-06-16</th>\n",
       "      <th>2017-06-17</th>\n",
       "      <th>2017-06-18</th>\n",
       "      <th>2017-06-19</th>\n",
       "      <th>2017-06-20</th>\n",
       "      <th>2017-06-21</th>\n",
       "      <th>2017-06-22</th>\n",
       "      <th>2017-06-23</th>\n",
       "      <th>2017-06-24</th>\n",
       "      <th>2017-06-25</th>\n",
       "      <th>2017-06-26</th>\n",
       "      <th>2017-06-27</th>\n",
       "      <th>2017-06-28</th>\n",
       "      <th>gender</th>\n",
       "      <th>age</th>\n",
       "      <th>number_of_kids</th>\n",
       "      <th>isMALE</th>\n",
       "      <th>hasKids</th>\n",
       "    </tr>\n",
       "    <tr>\n",
       "      <th>driver_id</th>\n",
       "      <th></th>\n",
       "      <th></th>\n",
       "      <th></th>\n",
       "      <th></th>\n",
       "      <th></th>\n",
       "      <th></th>\n",
       "      <th></th>\n",
       "      <th></th>\n",
       "      <th></th>\n",
       "      <th></th>\n",
       "      <th></th>\n",
       "      <th></th>\n",
       "      <th></th>\n",
       "      <th></th>\n",
       "      <th></th>\n",
       "      <th></th>\n",
       "      <th></th>\n",
       "      <th></th>\n",
       "      <th></th>\n",
       "    </tr>\n",
       "  </thead>\n",
       "  <tbody>\n",
       "    <tr>\n",
       "      <th>998229</th>\n",
       "      <td>5</td>\n",
       "      <td>6</td>\n",
       "      <td>4</td>\n",
       "      <td>5</td>\n",
       "      <td>7</td>\n",
       "      <td>0</td>\n",
       "      <td>7</td>\n",
       "      <td>8</td>\n",
       "      <td>6</td>\n",
       "      <td>9</td>\n",
       "      <td>5</td>\n",
       "      <td>5</td>\n",
       "      <td>5</td>\n",
       "      <td>5</td>\n",
       "      <td>MALE</td>\n",
       "      <td>31</td>\n",
       "      <td>0</td>\n",
       "      <td>1</td>\n",
       "      <td>0</td>\n",
       "    </tr>\n",
       "    <tr>\n",
       "      <th>998215</th>\n",
       "      <td>5</td>\n",
       "      <td>5</td>\n",
       "      <td>0</td>\n",
       "      <td>0</td>\n",
       "      <td>6</td>\n",
       "      <td>5</td>\n",
       "      <td>4</td>\n",
       "      <td>7</td>\n",
       "      <td>7</td>\n",
       "      <td>0</td>\n",
       "      <td>0</td>\n",
       "      <td>6</td>\n",
       "      <td>6</td>\n",
       "      <td>4</td>\n",
       "      <td>FEMALE</td>\n",
       "      <td>52</td>\n",
       "      <td>2</td>\n",
       "      <td>0</td>\n",
       "      <td>1</td>\n",
       "    </tr>\n",
       "    <tr>\n",
       "      <th>997510</th>\n",
       "      <td>0</td>\n",
       "      <td>7</td>\n",
       "      <td>6</td>\n",
       "      <td>3</td>\n",
       "      <td>4</td>\n",
       "      <td>4</td>\n",
       "      <td>3</td>\n",
       "      <td>6</td>\n",
       "      <td>6</td>\n",
       "      <td>7</td>\n",
       "      <td>5</td>\n",
       "      <td>5</td>\n",
       "      <td>5</td>\n",
       "      <td>5</td>\n",
       "      <td>MALE</td>\n",
       "      <td>61</td>\n",
       "      <td>3</td>\n",
       "      <td>1</td>\n",
       "      <td>1</td>\n",
       "    </tr>\n",
       "    <tr>\n",
       "      <th>997500</th>\n",
       "      <td>6</td>\n",
       "      <td>5</td>\n",
       "      <td>6</td>\n",
       "      <td>0</td>\n",
       "      <td>4</td>\n",
       "      <td>5</td>\n",
       "      <td>6</td>\n",
       "      <td>5</td>\n",
       "      <td>7</td>\n",
       "      <td>5</td>\n",
       "      <td>0</td>\n",
       "      <td>7</td>\n",
       "      <td>6</td>\n",
       "      <td>5</td>\n",
       "      <td>MALE</td>\n",
       "      <td>54</td>\n",
       "      <td>1</td>\n",
       "      <td>1</td>\n",
       "      <td>1</td>\n",
       "    </tr>\n",
       "    <tr>\n",
       "      <th>997190</th>\n",
       "      <td>0</td>\n",
       "      <td>2</td>\n",
       "      <td>1</td>\n",
       "      <td>1</td>\n",
       "      <td>1</td>\n",
       "      <td>1</td>\n",
       "      <td>1</td>\n",
       "      <td>4</td>\n",
       "      <td>1</td>\n",
       "      <td>0</td>\n",
       "      <td>4</td>\n",
       "      <td>3</td>\n",
       "      <td>3</td>\n",
       "      <td>3</td>\n",
       "      <td>FEMALE</td>\n",
       "      <td>20</td>\n",
       "      <td>0</td>\n",
       "      <td>0</td>\n",
       "      <td>0</td>\n",
       "    </tr>\n",
       "  </tbody>\n",
       "</table>\n",
       "</div>"
      ],
      "text/plain": [
       "           2017-06-15  2017-06-16  2017-06-17  2017-06-18  2017-06-19  \\\n",
       "driver_id                                                               \n",
       "998229              5           6           4           5           7   \n",
       "998215              5           5           0           0           6   \n",
       "997510              0           7           6           3           4   \n",
       "997500              6           5           6           0           4   \n",
       "997190              0           2           1           1           1   \n",
       "\n",
       "           2017-06-20  2017-06-21  2017-06-22  2017-06-23  2017-06-24  \\\n",
       "driver_id                                                               \n",
       "998229              0           7           8           6           9   \n",
       "998215              5           4           7           7           0   \n",
       "997510              4           3           6           6           7   \n",
       "997500              5           6           5           7           5   \n",
       "997190              1           1           4           1           0   \n",
       "\n",
       "           2017-06-25  2017-06-26  2017-06-27  2017-06-28  gender  age  \\\n",
       "driver_id                                                                \n",
       "998229              5           5           5           5    MALE   31   \n",
       "998215              0           6           6           4  FEMALE   52   \n",
       "997510              5           5           5           5    MALE   61   \n",
       "997500              0           7           6           5    MALE   54   \n",
       "997190              4           3           3           3  FEMALE   20   \n",
       "\n",
       "           number_of_kids  isMALE  hasKids  \n",
       "driver_id                                   \n",
       "998229                  0       1        0  \n",
       "998215                  2       0        1  \n",
       "997510                  3       1        1  \n",
       "997500                  1       1        1  \n",
       "997190                  0       0        0  "
      ]
     },
     "execution_count": 34,
     "metadata": {},
     "output_type": "execute_result"
    }
   ],
   "source": [
    "# merge piv_driver_ping_summary and driver_ping_summary_test\n",
    "merged_data_with_test = pd.merge(piv_driver_ping_summary, piv_driver_ping_summary_test, how='inner', on=['driver_id'])\n",
    "\n",
    "# reorder rows\n",
    "merged_data_with_test = pd.concat([merged_data_with_test.iloc[:,0:21], merged_data_with_test.iloc[:,26:], merged_data_with_test.iloc[:,21:26]], axis=1)\n",
    "\n",
    "# select relevant dataframe from 2017-06-15 to 'number of kids'\n",
    "merged_data_with_test = merged_data_with_test.iloc[:,14:]\n",
    "\n",
    "# Show sample\n",
    "print(merged_data_with_test.shape)\n",
    "merged_data_with_test[0:5]"
   ]
  },
  {
   "cell_type": "markdown",
   "metadata": {},
   "source": [
    "## Sequence Merged Data\n",
    "Create multiple sequences for merged ping and driver data"
   ]
  },
  {
   "cell_type": "code",
   "execution_count": 29,
   "metadata": {},
   "outputs": [],
   "source": [
    "def strided_app(a, L, S, index, tstart, tend, auxstart, auxend):  \n",
    "    '''\n",
    "    creates a strided dataset for each driver\n",
    "    Modified from https://stackoverflow.com/questions/40084931/taking-subarrays-from-numpy-array-with-given-stride-stepsize\n",
    "    Window len = L, Stride len/stepsize = S\n",
    "    tstart, tend = start and end column time features\n",
    "    auxstart, auxend = start and end column auxillary features\n",
    "    '''\n",
    "    a_main = a.iloc[tstart:tend]\n",
    "    nrows = ((a_main.size-L)//S)+1\n",
    "    n = a_main.strides[0]\n",
    "    a_new = np.lib.stride_tricks.as_strided(a, shape=(nrows,L), strides=(S*n,n))\n",
    "    \n",
    "    other_vars = np.tile(a[auxstart:auxend], (nrows,1))\n",
    "    a_new_all = np.zeros((nrows, L+(auxend-auxstart)))\n",
    "    \n",
    "    \n",
    "    a_new_all[:,0:L] = a_new\n",
    "    a_new_all[:,L:] = other_vars\n",
    "    a_new_all = pd.DataFrame(a_new_all)\n",
    "    a_new_all = a_new_all.set_index(index.repeat(nrows))\n",
    "    return a_new_all\n",
    "\n",
    "\n",
    "def prepare_lstm_data(data, window, stride, tstart, tend, auxstart, auxend):\n",
    "    '''\n",
    "    convert the data for lstm\n",
    "    '''\n",
    "    ind = data.index\n",
    "    transformed_data = pd.DataFrame()\n",
    "    for j in range(len(data)):\n",
    "        transformed_data = transformed_data.append(strided_app(data.iloc[j], window, stride, ind[j], tstart, tend, auxstart, auxend))\n",
    "    transformed_data.columns = [\"day_{}\".format(i) for i in range(0,window)] + [\"age\", \"number_of_kids\", \"isMALE\"]\n",
    "    return transformed_data\n"
   ]
  },
  {
   "cell_type": "code",
   "execution_count": 30,
   "metadata": {},
   "outputs": [],
   "source": [
    "# Define LSTM data preparation parameters\n",
    "t_start, t_end = 0, 14\n",
    "aux_start, aux_end = 14, 17\n",
    "window = 8\n",
    "stride = 1"
   ]
  },
  {
   "cell_type": "code",
   "execution_count": 35,
   "metadata": {},
   "outputs": [
    {
     "name": "stderr",
     "output_type": "stream",
     "text": [
      "c:\\users\\julian.addison\\appdata\\local\\continuum\\anaconda3\\envs\\gpu_env\\lib\\site-packages\\ipykernel_launcher.py:11: FutureWarning: Series.strides is deprecated and will be removed in a future version\n",
      "  # This is added back by InteractiveShellApp.init_path()\n"
     ]
    }
   ],
   "source": [
    "# reindex data and drop columns\n",
    "# index_merged_data_test = merged_data_with_test.set_index(['driver_id'])\n",
    "index_merged_data_test = merged_data_with_test.drop(['gender', 'hasKids'], axis=1)\n",
    "\n",
    "# prepare data for scoring\n",
    "transformed_data_test = prepare_lstm_data(index_merged_data_test, window, stride, t_start, t_end, aux_start, aux_end)"
   ]
  },
  {
   "cell_type": "code",
   "execution_count": 36,
   "metadata": {},
   "outputs": [
    {
     "data": {
      "text/plain": [
       "'Original data: (2477, 17) was modified to (17339, 11)'"
      ]
     },
     "execution_count": 36,
     "metadata": {},
     "output_type": "execute_result"
    }
   ],
   "source": [
    "\"Original data: {} was modified to {}\".format(index_merged_data_test.shape, transformed_data_test.shape)"
   ]
  },
  {
   "cell_type": "code",
   "execution_count": 37,
   "metadata": {},
   "outputs": [
    {
     "data": {
      "text/html": [
       "<div>\n",
       "<style scoped>\n",
       "    .dataframe tbody tr th:only-of-type {\n",
       "        vertical-align: middle;\n",
       "    }\n",
       "\n",
       "    .dataframe tbody tr th {\n",
       "        vertical-align: top;\n",
       "    }\n",
       "\n",
       "    .dataframe thead th {\n",
       "        text-align: right;\n",
       "    }\n",
       "</style>\n",
       "<table border=\"1\" class=\"dataframe\">\n",
       "  <thead>\n",
       "    <tr style=\"text-align: right;\">\n",
       "      <th></th>\n",
       "      <th>day_0</th>\n",
       "      <th>day_1</th>\n",
       "      <th>day_2</th>\n",
       "      <th>day_3</th>\n",
       "      <th>day_4</th>\n",
       "      <th>day_5</th>\n",
       "      <th>day_6</th>\n",
       "      <th>day_7</th>\n",
       "      <th>age</th>\n",
       "      <th>number_of_kids</th>\n",
       "      <th>isMALE</th>\n",
       "    </tr>\n",
       "  </thead>\n",
       "  <tbody>\n",
       "    <tr>\n",
       "      <th>998229</th>\n",
       "      <td>5.0</td>\n",
       "      <td>6.0</td>\n",
       "      <td>4.0</td>\n",
       "      <td>5.0</td>\n",
       "      <td>7.0</td>\n",
       "      <td>0.0</td>\n",
       "      <td>7.0</td>\n",
       "      <td>8.0</td>\n",
       "      <td>31.0</td>\n",
       "      <td>0.0</td>\n",
       "      <td>1.0</td>\n",
       "    </tr>\n",
       "    <tr>\n",
       "      <th>998229</th>\n",
       "      <td>6.0</td>\n",
       "      <td>4.0</td>\n",
       "      <td>5.0</td>\n",
       "      <td>7.0</td>\n",
       "      <td>0.0</td>\n",
       "      <td>7.0</td>\n",
       "      <td>8.0</td>\n",
       "      <td>6.0</td>\n",
       "      <td>31.0</td>\n",
       "      <td>0.0</td>\n",
       "      <td>1.0</td>\n",
       "    </tr>\n",
       "    <tr>\n",
       "      <th>998229</th>\n",
       "      <td>4.0</td>\n",
       "      <td>5.0</td>\n",
       "      <td>7.0</td>\n",
       "      <td>0.0</td>\n",
       "      <td>7.0</td>\n",
       "      <td>8.0</td>\n",
       "      <td>6.0</td>\n",
       "      <td>9.0</td>\n",
       "      <td>31.0</td>\n",
       "      <td>0.0</td>\n",
       "      <td>1.0</td>\n",
       "    </tr>\n",
       "    <tr>\n",
       "      <th>998229</th>\n",
       "      <td>5.0</td>\n",
       "      <td>7.0</td>\n",
       "      <td>0.0</td>\n",
       "      <td>7.0</td>\n",
       "      <td>8.0</td>\n",
       "      <td>6.0</td>\n",
       "      <td>9.0</td>\n",
       "      <td>5.0</td>\n",
       "      <td>31.0</td>\n",
       "      <td>0.0</td>\n",
       "      <td>1.0</td>\n",
       "    </tr>\n",
       "    <tr>\n",
       "      <th>998229</th>\n",
       "      <td>7.0</td>\n",
       "      <td>0.0</td>\n",
       "      <td>7.0</td>\n",
       "      <td>8.0</td>\n",
       "      <td>6.0</td>\n",
       "      <td>9.0</td>\n",
       "      <td>5.0</td>\n",
       "      <td>5.0</td>\n",
       "      <td>31.0</td>\n",
       "      <td>0.0</td>\n",
       "      <td>1.0</td>\n",
       "    </tr>\n",
       "  </tbody>\n",
       "</table>\n",
       "</div>"
      ],
      "text/plain": [
       "        day_0  day_1  day_2  day_3  day_4  day_5  day_6  day_7   age  \\\n",
       "998229    5.0    6.0    4.0    5.0    7.0    0.0    7.0    8.0  31.0   \n",
       "998229    6.0    4.0    5.0    7.0    0.0    7.0    8.0    6.0  31.0   \n",
       "998229    4.0    5.0    7.0    0.0    7.0    8.0    6.0    9.0  31.0   \n",
       "998229    5.0    7.0    0.0    7.0    8.0    6.0    9.0    5.0  31.0   \n",
       "998229    7.0    0.0    7.0    8.0    6.0    9.0    5.0    5.0  31.0   \n",
       "\n",
       "        number_of_kids  isMALE  \n",
       "998229             0.0     1.0  \n",
       "998229             0.0     1.0  \n",
       "998229             0.0     1.0  \n",
       "998229             0.0     1.0  \n",
       "998229             0.0     1.0  "
      ]
     },
     "execution_count": 37,
     "metadata": {},
     "output_type": "execute_result"
    }
   ],
   "source": [
    "transformed_data_test[0:5]"
   ]
  },
  {
   "cell_type": "code",
   "execution_count": 38,
   "metadata": {},
   "outputs": [],
   "source": [
    "# check and save test csv\n",
    "transformed_data_test.to_csv(DATA+\"merged_driver_and_ping_data_test.csv\", index=True)"
   ]
  },
  {
   "cell_type": "markdown",
   "metadata": {},
   "source": [
    "# Prediction"
   ]
  },
  {
   "cell_type": "code",
   "execution_count": 39,
   "metadata": {},
   "outputs": [
    {
     "name": "stderr",
     "output_type": "stream",
     "text": [
      "Using TensorFlow backend.\n"
     ]
    }
   ],
   "source": [
    "import tensorflow as tf\n",
    "from keras.models import Sequential, Model\n",
    "from keras.layers import Input, Activation, Dropout, Flatten, Dense, LSTM, concatenate\n",
    "from keras.optimizers import SGD, Adam\n",
    "from sklearn.preprocessing import StandardScaler"
   ]
  },
  {
   "cell_type": "code",
   "execution_count": 40,
   "metadata": {},
   "outputs": [],
   "source": [
    "# model helper functions\n",
    "def eval_rmse(target, pred):\n",
    "    '''\n",
    "    RMSE for models\n",
    "    '''\n",
    "    rmse = sqrt(mean_squared_error(target, pred))\n",
    "    print('Test RMSE: %.3f' % rmse)\n",
    "    return rmse\n",
    "\n",
    "\n",
    "def predict_model(test, test_y, yhat):\n",
    "    '''\n",
    "    predict on test data\n",
    "    '''\n",
    "    test = test.reshape((test.shape[0], test.shape[2]))\n",
    "    \n",
    "    # invert scaling for forecast\n",
    "    inv_yhat = np.concatenate((yhat, test[:, 1:]), axis=1)\n",
    "    #inv_yhat = scaler.inverse_transform(inv_yhat)\n",
    "    inv_yhat = inv_yhat[:,0]\n",
    "\n",
    "    # invert scaling for actual\n",
    "    test_y = test_y.reshape((len(test_y), 1))\n",
    "    inv_y = np.concatenate((test_y, test[:, 1:]), axis=1)\n",
    "    #inv_y = scaler.inverse_transform(inv_y)\n",
    "    inv_y = inv_y[:,0]\n",
    "    \n",
    "    return inv_y, inv_yhat\n",
    "\n",
    "def predict_model_aux(test_temporal, test_aux, test_y, yhat):\n",
    "    '''\n",
    "    predict on test data\n",
    "    '''\n",
    "    test_temporal = test_temporal.reshape((test_temporal.shape[0], test_temporal.shape[2]))\n",
    "    \n",
    "    # invert scaling for forecast\n",
    "    inv_yhat = np.concatenate((yhat, test_temporal[:, 1:], test_aux[:, test_temporal.shape[1]+1:]), axis=1)\n",
    "    #inv_yhat = scaler.inverse_transform(inv_yhat)\n",
    "    inv_yhat = inv_yhat[:,0]\n",
    "\n",
    "    # invert scaling for actual\n",
    "#     test_y = test_y.reshape((len(test_y), 1))\n",
    "    inv_y = np.concatenate((test_y, test_temporal[:, 1:], test_aux[:, test_temporal.shape[1]+1:]), axis=1)\n",
    "    #inv_y = scaler.inverse_transform(inv_y)\n",
    "    inv_y = inv_y[:,0]\n",
    "    \n",
    "    return inv_y, inv_yhat"
   ]
  },
  {
   "cell_type": "markdown",
   "metadata": {},
   "source": [
    "## LSTM Model Scoring\n",
    "This model will serve as the base model for comparison with the auxillary input model. Only the time series elements are used. For simplicity a single LSTM layer is used. "
   ]
  },
  {
   "cell_type": "code",
   "execution_count": 45,
   "metadata": {},
   "outputs": [],
   "source": [
    "from keras.models import load_model"
   ]
  },
  {
   "cell_type": "code",
   "execution_count": 41,
   "metadata": {},
   "outputs": [],
   "source": [
    "# Load Trained model\n",
    "def loading_model(model_path, model_weights_path):\n",
    "    model = load_model(model_path)\n",
    "    model.load_weights(model_weights_path)\n",
    "    return model"
   ]
  },
  {
   "cell_type": "code",
   "execution_count": 166,
   "metadata": {},
   "outputs": [],
   "source": [
    "# define model location\n",
    "MODEL_PATH = CWD + \"\\\\model\\\\run1_2019-08-23model.h5\"\n",
    "MODEL_WEIGHTS_PATH = CWD + \"\\\\model\\\\run1_2019-08-23model_weights.h5\""
   ]
  },
  {
   "cell_type": "code",
   "execution_count": 167,
   "metadata": {},
   "outputs": [],
   "source": [
    "# select temporal features, target and reshape data\n",
    "transformed_data_temporal_pred_test = transformed_data_test[['day_7']].values\n",
    "\n",
    "transformed_data_temporal_test = transformed_data_test.drop([\"day_7\", \"age\", \"number_of_kids\", \"isMALE\"], axis=1)\n",
    "transformed_data_temporal_test = transformed_data_temporal_test.values\n",
    "transformed_data_temporal_test = transformed_data_temporal_test.reshape((transformed_data_temporal_test.shape[0],\n",
    "                                                                         1, transformed_data_temporal_test.shape[1]))"
   ]
  },
  {
   "cell_type": "code",
   "execution_count": 168,
   "metadata": {},
   "outputs": [],
   "source": [
    "# load model\n",
    "model = loading_model(MODEL_PATH, MODEL_WEIGHTS_PATH)"
   ]
  },
  {
   "cell_type": "code",
   "execution_count": 169,
   "metadata": {},
   "outputs": [
    {
     "name": "stdout",
     "output_type": "stream",
     "text": [
      "Test RMSE: 2.106\n"
     ]
    }
   ],
   "source": [
    "# predict\n",
    "yhat_base = model.predict(transformed_data_temporal_test)\n",
    "inv_y_base, inv_yhat_base = predict_model(transformed_data_temporal_test, transformed_data_temporal_pred_test, yhat)\n",
    "\n",
    "# calculate RMSE\n",
    "rmse = eval_rmse(inv_y_base, inv_yhat_base)"
   ]
  },
  {
   "cell_type": "markdown",
   "metadata": {},
   "source": [
    "## LSTM Model Scoring with Auxillary Inputs\n",
    "Conceptually, the following approach is taken to add auxillary data into the model. \n",
    "\n",
    "\n",
    "TIME_SERIES_INPUT ------> LSTM -------\\\n",
    "\n",
    "&emsp;&emsp;&emsp;&emsp;&emsp;&emsp;&emsp;&emsp;&emsp;&emsp;&emsp;&emsp;&emsp;&emsp;&emsp;&emsp;&emsp;&emsp;&emsp;&emsp;---> MERGE ---> [more processing]\n",
    "\n",
    "AUXILIARY_INPUTS --> [do something] --/"
   ]
  },
  {
   "cell_type": "code",
   "execution_count": 170,
   "metadata": {},
   "outputs": [],
   "source": [
    "# define model location\n",
    "MODEL_AUX_PATH = CWD + \"\\\\model\\\\run1_2019-08-23model_aux.h5\"\n",
    "MODEL_AUX_WEIGHTS_PATH = CWD + \"\\\\model\\\\run1_2019-08-23model_aux_weights.h5\""
   ]
  },
  {
   "cell_type": "code",
   "execution_count": 171,
   "metadata": {},
   "outputs": [],
   "source": [
    "# load model\n",
    "model_aux = loading_model(MODEL_AUX_PATH, MODEL_AUX_WEIGHTS_PATH)"
   ]
  },
  {
   "cell_type": "code",
   "execution_count": 172,
   "metadata": {},
   "outputs": [],
   "source": [
    "# Prepare auxillary data\n",
    "transformed_data_aux_test = transformed_data_test[[\"age\", \"number_of_kids\", \"isMALE\"]]\n",
    "transformed_data_aux_test = transformed_data_aux_test.values\n",
    "transformed_data_aux_test = transformed_data_aux_test.reshape((transformed_data_aux_test.shape[0], transformed_data_aux_test.shape[1]))"
   ]
  },
  {
   "cell_type": "code",
   "execution_count": 173,
   "metadata": {},
   "outputs": [
    {
     "name": "stdout",
     "output_type": "stream",
     "text": [
      "Test RMSE: 2.131\n"
     ]
    }
   ],
   "source": [
    "# predict\n",
    "yhat_aux = model_aux.predict({'temporal_input':transformed_data_temporal_test, 'auxillary_input':transformed_data_aux_test})\n",
    "inv_y_aux, inv_yhat_aux = predict_model_aux(transformed_data_temporal_test, transformed_data_aux_test,\n",
    "                                    transformed_data_temporal_pred_test, yhat_aux)\n",
    "\n",
    "# calculate RMSE\n",
    "rmse = eval_rmse(inv_y_aux, inv_yhat_aux)"
   ]
  },
  {
   "cell_type": "markdown",
   "metadata": {},
   "source": [
    "# Compare & Visualise Results"
   ]
  },
  {
   "cell_type": "code",
   "execution_count": 183,
   "metadata": {},
   "outputs": [],
   "source": [
    "actual = pd.DataFrame(transformed_data_temporal_pred_test.reshape(int(len(transformed_data_test.index.values)/7), 7))\n",
    "actual['Model'] = 'Actual'\n",
    "actual['Driver ID'] = transformed_data_test.index.values[0::7]\n",
    "\n",
    "predicted_base = pd.DataFrame(yhat_base.reshape(int(len(transformed_data_test.index.values)/7), 7))\n",
    "predicted_base['Model'] = 'LSTM'\n",
    "predicted_base['Driver ID'] = transformed_data_test.index.values[0::7]\n",
    "\n",
    "predicted_aux = pd.DataFrame(yhat_aux.reshape(int(len(transformed_data_test.index.values)/7), 7))\n",
    "predicted_aux['Model'] = 'LSTM with Aux'\n",
    "predicted_aux['Driver ID'] = transformed_data_test.index.values[0::7]\n",
    "\n",
    "merged_dataframe = actual.append([predicted_aux, predicted_base])"
   ]
  },
  {
   "cell_type": "code",
   "execution_count": 200,
   "metadata": {},
   "outputs": [
    {
     "data": {
      "image/png": "[encoded data removed]",
      "text/plain": [
       "<Figure size 1183.25x432 with 10 Axes>"
      ]
     },
     "metadata": {
      "needs_background": "light"
     },
     "output_type": "display_data"
    }
   ],
   "source": [
    "did = np.random.choice(2494, 10, replace=False)\n",
    "driver_ids = [transformed_data_test.index.values[0::7][i] for i in did] \n",
    "\n",
    "tmp = merged_dataframe[merged_dataframe['Driver ID'].isin(driver_ids)]\n",
    "\n",
    "tmp = pd.melt(tmp, id_vars=['Model', 'Driver ID'], value_vars=[0, 1, 2, 3, 4, 5, 6])\n",
    "tmp = tmp.rename(columns={'variable': 'Day', 'value': 'Hours Online'})\n",
    "tmp['Day'] = pd.to_numeric(tmp['Day'], downcast='integer')\n",
    "\n",
    "g = sns.FacetGrid(tmp, col=\"Driver ID\", hue=\"Model\", col_wrap=5)\n",
    "g = (g.map(sns.lineplot, \"Day\", \"Hours Online\").add_legend())\n",
    "g = g.fig.suptitle('Comparison of Actual and Forecasted Online Driver Hours', fontsize=16, y=1.05)"
   ]
  },
  {
   "cell_type": "markdown",
   "metadata": {},
   "source": [
    "#### TODO: create a function to predict hours for specified driver_id"
   ]
  }
 ],
 "metadata": {
  "kernelspec": {
   "display_name": "Python 3",
   "language": "python",
   "name": "python3"
  },
  "language_info": {
   "codemirror_mode": {
    "name": "ipython",
    "version": 3
   },
   "file_extension": ".py",
   "mimetype": "text/x-python",
   "name": "python",
   "nbconvert_exporter": "python",
   "pygments_lexer": "ipython3",
   "version": "3.6.8"
  }
 },
 "nbformat": 4,
 "nbformat_minor": 2
}
