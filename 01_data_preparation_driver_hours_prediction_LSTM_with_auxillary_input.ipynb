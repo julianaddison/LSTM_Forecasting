{
 "cells": [
  {
   "cell_type": "markdown",
   "metadata": {},
   "source": [
    "# Data Preparation"
   ]
  },
  {
   "cell_type": "markdown",
   "metadata": {},
   "source": [
    "This notebook converts transaction information to individual records from pings.csv by driver ID. \n",
    "The records are the merged to drivers.csv. Given driver_id and date, you should predict online_hours.\n",
    "In summary, the data preparation stage involves threes parts. First transaction information is converted to long format individual records from pings.csv by driver ID. Online hours are computed by counting the number of pings on any given day. Drivers without any ping data on a day are assumed to be offline on that day i.e. 0 hours online. The records are then merged to drivers.csv which contain additional static information (age, gender, etc.) on driver ID. \n",
    "\n",
    "**Inputs:**       \n",
    "1. *drivers.csv: * This file contains driver profile data\n",
    "1. *pings.csv: * This file contains the driver pings\n",
    "              \n",
    "**Outputs:**     \n",
    "1. *merged_driver_and_ping_data.csv*\n",
    "1. *sequence_merged_driver_and_ping_data.csv*"
   ]
  },
  {
   "cell_type": "code",
   "execution_count": 1,
   "metadata": {},
   "outputs": [],
   "source": [
    "from matplotlib import pyplot as plt\n",
    "import seaborn as sns\n",
    "%matplotlib inline\n",
    "\n",
    "import pandas as pd\n",
    "import os\n",
    "import datetime\n",
    "import numpy as np"
   ]
  },
  {
   "cell_type": "code",
   "execution_count": 6,
   "metadata": {},
   "outputs": [],
   "source": [
    "# define parameters\n",
    "CWD = os.getcwd()\n",
    "DATA = CWD + \"\\\\data\\\\\""
   ]
  },
  {
   "cell_type": "code",
   "execution_count": 7,
   "metadata": {},
   "outputs": [],
   "source": [
    "# data prep helper functions\n",
    "def read_csv(path, sep=\",\", sortby=[]):\n",
    "    '''\n",
    "    read csv files\n",
    "    '''\n",
    "    # load data\n",
    "    data = pd.read_csv(path, sep=sep)\n",
    "    \n",
    "    # sort and reindex\n",
    "    data = data.sort_values(sortby, ascending=False)\n",
    "    data = data.reset_index(drop=True)\n",
    "    \n",
    "    print(\"Data loading & sorting completed\")\n",
    "    print(\"Total Observation: \", data.shape[0])\n",
    "    return data\n",
    "\n",
    "def check_data(data):\n",
    "    '''\n",
    "    check data for duplicates and missing values\n",
    "    '''\n",
    "    # Drop duplicates\n",
    "    initial_nrow = data.shape[0]\n",
    "    data.drop_duplicates()\n",
    "    post_nrow = data.shape[0]\n",
    "    print(\"Total duplicates dropped: \", initial_nrow - post_nrow)\n",
    "    \n",
    "    # Empty columns - Find NaN counts per columns\n",
    "    null_columns = data.columns[data.isnull().any()]\n",
    "    if len(null_columns)==0:\n",
    "        print(\"No missing values\")\n",
    "    else:\n",
    "        print(\"Missing values found in: \", null_columns)\n",
    "        print(\"Missing counts in missing columns: \", data[null_columns].isnull().sum())\n",
    "\n",
    "def prep_ping_data(data, uni_id, uni_dt):\n",
    "    '''\n",
    "    create dataset for online hours per day per driver\n",
    "    '''\n",
    "    driver_ping_summary = []\n",
    "\n",
    "    id_counter = 0\n",
    "    total_id = len(uni_id)\n",
    "    days = len(uni_dt)\n",
    "    \n",
    "    for ID in uni_id:\n",
    "        id_counter += 1\n",
    "        tmp = data[data['driver_id'] == ID]\n",
    "        day_counter = days + 1\n",
    "        for dt in uni_dt:\n",
    "            day_counter -= 1\n",
    "            tmp_dt = tmp[tmp['ping_date'] == dt]\n",
    "            if tmp_dt.shape[0] > 0:\n",
    "                ping_interval = tmp_dt['ping_timestamp'].diff(-1)/ np.timedelta64(1, 's')\n",
    "                total_ping = ping_interval[ping_interval <= 15].count()\n",
    "                online_hr = int(round((total_ping * 15)/3600))\n",
    "            else:\n",
    "                 online_hr = 0 #assume 0 hrs driven if no pings\n",
    "            driver_ping_summary.append({'driver_id':ID, 'date': dt ,'online_hrs': online_hr, 'day_count': day_counter})\n",
    "        if id_counter % 248 == 0:\n",
    "            print((\"Completed driver {}/{}\").format(id_counter, total_id))\n",
    "    return pd.DataFrame(driver_ping_summary)"
   ]
  },
  {
   "cell_type": "markdown",
   "metadata": {},
   "source": [
    "## Train Ping Data"
   ]
  },
  {
   "cell_type": "markdown",
   "metadata": {},
   "source": [
    "Contains the following:\n",
    "\n",
    "- driver_id: The id of the driver whose ping has been received. \n",
    "- ping_timestamp: The Unix epoch timestamp when ping was received by thesystem. Timezone is “Asia/Jakarta”."
   ]
  },
  {
   "cell_type": "code",
   "execution_count": 8,
   "metadata": {},
   "outputs": [
    {
     "name": "stdout",
     "output_type": "stream",
     "text": [
      "Data loading & sorting completed\n",
      "Total Observation:  50528701\n"
     ]
    }
   ],
   "source": [
    "# Load pings data and index\n",
    "ping_data = read_csv(DATA+\"pings.csv\", sortby=['driver_id', 'ping_timestamp'])"
   ]
  },
  {
   "cell_type": "code",
   "execution_count": 9,
   "metadata": {},
   "outputs": [
    {
     "name": "stdout",
     "output_type": "stream",
     "text": [
      "Total duplicates dropped:  0\n",
      "No missing values\n"
     ]
    }
   ],
   "source": [
    "# Check pings data for duplicates and missing values\n",
    "check_data(ping_data)"
   ]
  },
  {
   "cell_type": "code",
   "execution_count": 10,
   "metadata": {},
   "outputs": [],
   "source": [
    "# Convert Date\n",
    "ping_data['ping_timestamp'] = pd.to_datetime(ping_data['ping_timestamp'], unit='s')\n",
    "ping_data['ping_timestamp'] = ping_data['ping_timestamp'].dt.tz_localize('Asia/Jakarta')\n",
    "ping_data['ping_date']= ping_data['ping_timestamp'].dt.date"
   ]
  },
  {
   "cell_type": "code",
   "execution_count": 11,
   "metadata": {},
   "outputs": [],
   "source": [
    "# Determine time online per driver per day\n",
    "uni_drive_id = ping_data['driver_id'].unique()\n",
    "uni_ping_dt =  ping_data['ping_date'].unique()"
   ]
  },
  {
   "cell_type": "code",
   "execution_count": 12,
   "metadata": {},
   "outputs": [
    {
     "name": "stdout",
     "output_type": "stream",
     "text": [
      "Completed driver 248/2480\n",
      "Completed driver 496/2480\n",
      "Completed driver 744/2480\n",
      "Completed driver 992/2480\n",
      "Completed driver 1240/2480\n",
      "Completed driver 1488/2480\n",
      "Completed driver 1736/2480\n",
      "Completed driver 1984/2480\n",
      "Completed driver 2232/2480\n",
      "Completed driver 2480/2480\n"
     ]
    }
   ],
   "source": [
    "# create dataset for online hours per day per driver\n",
    "driver_ping_summary = prep_ping_data(ping_data, uni_drive_id, uni_ping_dt)"
   ]
  },
  {
   "cell_type": "code",
   "execution_count": 13,
   "metadata": {},
   "outputs": [
    {
     "data": {
      "text/html": [
       "<div>\n",
       "<style scoped>\n",
       "    .dataframe tbody tr th:only-of-type {\n",
       "        vertical-align: middle;\n",
       "    }\n",
       "\n",
       "    .dataframe tbody tr th {\n",
       "        vertical-align: top;\n",
       "    }\n",
       "\n",
       "    .dataframe thead th {\n",
       "        text-align: right;\n",
       "    }\n",
       "</style>\n",
       "<table border=\"1\" class=\"dataframe\">\n",
       "  <thead>\n",
       "    <tr style=\"text-align: right;\">\n",
       "      <th></th>\n",
       "      <th>driver_id</th>\n",
       "      <th>date</th>\n",
       "      <th>online_hrs</th>\n",
       "      <th>day_count</th>\n",
       "    </tr>\n",
       "  </thead>\n",
       "  <tbody>\n",
       "    <tr>\n",
       "      <th>0</th>\n",
       "      <td>998229</td>\n",
       "      <td>2017-06-22</td>\n",
       "      <td>1</td>\n",
       "      <td>22</td>\n",
       "    </tr>\n",
       "    <tr>\n",
       "      <th>1</th>\n",
       "      <td>998229</td>\n",
       "      <td>2017-06-21</td>\n",
       "      <td>7</td>\n",
       "      <td>21</td>\n",
       "    </tr>\n",
       "    <tr>\n",
       "      <th>2</th>\n",
       "      <td>998229</td>\n",
       "      <td>2017-06-20</td>\n",
       "      <td>0</td>\n",
       "      <td>20</td>\n",
       "    </tr>\n",
       "    <tr>\n",
       "      <th>3</th>\n",
       "      <td>998229</td>\n",
       "      <td>2017-06-19</td>\n",
       "      <td>7</td>\n",
       "      <td>19</td>\n",
       "    </tr>\n",
       "    <tr>\n",
       "      <th>4</th>\n",
       "      <td>998229</td>\n",
       "      <td>2017-06-18</td>\n",
       "      <td>5</td>\n",
       "      <td>18</td>\n",
       "    </tr>\n",
       "  </tbody>\n",
       "</table>\n",
       "</div>"
      ],
      "text/plain": [
       "   driver_id        date  online_hrs  day_count\n",
       "0     998229  2017-06-22           1         22\n",
       "1     998229  2017-06-21           7         21\n",
       "2     998229  2017-06-20           0         20\n",
       "3     998229  2017-06-19           7         19\n",
       "4     998229  2017-06-18           5         18"
      ]
     },
     "execution_count": 13,
     "metadata": {},
     "output_type": "execute_result"
    }
   ],
   "source": [
    "# check records\n",
    "driver_ping_summary[0:5]"
   ]
  },
  {
   "cell_type": "code",
   "execution_count": 14,
   "metadata": {},
   "outputs": [
    {
     "name": "stdout",
     "output_type": "stream",
     "text": [
      "19\n"
     ]
    },
    {
     "data": {
      "image/png": "[encoded data removed]",
      "text/plain": [
       "<Figure size 432x288 with 1 Axes>"
      ]
     },
     "metadata": {
      "needs_background": "light"
     },
     "output_type": "display_data"
    }
   ],
   "source": [
    "# plot online hours\n",
    "sns.distplot(driver_ping_summary['online_hrs'])\n",
    "print(len(driver_ping_summary['online_hrs'].unique()))"
   ]
  },
  {
   "cell_type": "code",
   "execution_count": 15,
   "metadata": {},
   "outputs": [],
   "source": [
    "# pivot data - each row is one driver\n",
    "piv_driver_ping_summary = driver_ping_summary.pivot_table(values='online_hrs', index='driver_id', columns='date')"
   ]
  },
  {
   "cell_type": "code",
   "execution_count": 16,
   "metadata": {},
   "outputs": [],
   "source": [
    "# drop column 2017-06-22 which is in test\n",
    "piv_driver_ping_summary = piv_driver_ping_summary.drop([pd.Timestamp('2017-06-22')], axis=1)"
   ]
  },
  {
   "cell_type": "code",
   "execution_count": 17,
   "metadata": {},
   "outputs": [
    {
     "data": {
      "text/html": [
       "<div>\n",
       "<style scoped>\n",
       "    .dataframe tbody tr th:only-of-type {\n",
       "        vertical-align: middle;\n",
       "    }\n",
       "\n",
       "    .dataframe tbody tr th {\n",
       "        vertical-align: top;\n",
       "    }\n",
       "\n",
       "    .dataframe thead th {\n",
       "        text-align: right;\n",
       "    }\n",
       "</style>\n",
       "<table border=\"1\" class=\"dataframe\">\n",
       "  <thead>\n",
       "    <tr style=\"text-align: right;\">\n",
       "      <th>date</th>\n",
       "      <th>2017-06-01</th>\n",
       "      <th>2017-06-02</th>\n",
       "      <th>2017-06-03</th>\n",
       "      <th>2017-06-04</th>\n",
       "      <th>2017-06-05</th>\n",
       "      <th>2017-06-06</th>\n",
       "      <th>2017-06-07</th>\n",
       "      <th>2017-06-08</th>\n",
       "      <th>2017-06-09</th>\n",
       "      <th>2017-06-10</th>\n",
       "      <th>...</th>\n",
       "      <th>2017-06-12</th>\n",
       "      <th>2017-06-13</th>\n",
       "      <th>2017-06-14</th>\n",
       "      <th>2017-06-15</th>\n",
       "      <th>2017-06-16</th>\n",
       "      <th>2017-06-17</th>\n",
       "      <th>2017-06-18</th>\n",
       "      <th>2017-06-19</th>\n",
       "      <th>2017-06-20</th>\n",
       "      <th>2017-06-21</th>\n",
       "    </tr>\n",
       "    <tr>\n",
       "      <th>driver_id</th>\n",
       "      <th></th>\n",
       "      <th></th>\n",
       "      <th></th>\n",
       "      <th></th>\n",
       "      <th></th>\n",
       "      <th></th>\n",
       "      <th></th>\n",
       "      <th></th>\n",
       "      <th></th>\n",
       "      <th></th>\n",
       "      <th></th>\n",
       "      <th></th>\n",
       "      <th></th>\n",
       "      <th></th>\n",
       "      <th></th>\n",
       "      <th></th>\n",
       "      <th></th>\n",
       "      <th></th>\n",
       "      <th></th>\n",
       "      <th></th>\n",
       "      <th></th>\n",
       "    </tr>\n",
       "  </thead>\n",
       "  <tbody>\n",
       "    <tr>\n",
       "      <th>111556</th>\n",
       "      <td>2</td>\n",
       "      <td>2</td>\n",
       "      <td>0</td>\n",
       "      <td>0</td>\n",
       "      <td>4</td>\n",
       "      <td>2</td>\n",
       "      <td>2</td>\n",
       "      <td>3</td>\n",
       "      <td>4</td>\n",
       "      <td>0</td>\n",
       "      <td>...</td>\n",
       "      <td>3</td>\n",
       "      <td>4</td>\n",
       "      <td>2</td>\n",
       "      <td>1</td>\n",
       "      <td>0</td>\n",
       "      <td>0</td>\n",
       "      <td>0</td>\n",
       "      <td>0</td>\n",
       "      <td>2</td>\n",
       "      <td>3</td>\n",
       "    </tr>\n",
       "    <tr>\n",
       "      <th>111575</th>\n",
       "      <td>6</td>\n",
       "      <td>0</td>\n",
       "      <td>0</td>\n",
       "      <td>0</td>\n",
       "      <td>3</td>\n",
       "      <td>6</td>\n",
       "      <td>7</td>\n",
       "      <td>5</td>\n",
       "      <td>0</td>\n",
       "      <td>0</td>\n",
       "      <td>...</td>\n",
       "      <td>5</td>\n",
       "      <td>6</td>\n",
       "      <td>6</td>\n",
       "      <td>6</td>\n",
       "      <td>0</td>\n",
       "      <td>0</td>\n",
       "      <td>0</td>\n",
       "      <td>8</td>\n",
       "      <td>7</td>\n",
       "      <td>5</td>\n",
       "    </tr>\n",
       "    <tr>\n",
       "      <th>111779</th>\n",
       "      <td>3</td>\n",
       "      <td>3</td>\n",
       "      <td>0</td>\n",
       "      <td>0</td>\n",
       "      <td>0</td>\n",
       "      <td>3</td>\n",
       "      <td>1</td>\n",
       "      <td>4</td>\n",
       "      <td>1</td>\n",
       "      <td>0</td>\n",
       "      <td>...</td>\n",
       "      <td>0</td>\n",
       "      <td>2</td>\n",
       "      <td>4</td>\n",
       "      <td>2</td>\n",
       "      <td>4</td>\n",
       "      <td>0</td>\n",
       "      <td>0</td>\n",
       "      <td>0</td>\n",
       "      <td>3</td>\n",
       "      <td>3</td>\n",
       "    </tr>\n",
       "    <tr>\n",
       "      <th>111839</th>\n",
       "      <td>7</td>\n",
       "      <td>7</td>\n",
       "      <td>7</td>\n",
       "      <td>7</td>\n",
       "      <td>7</td>\n",
       "      <td>5</td>\n",
       "      <td>5</td>\n",
       "      <td>6</td>\n",
       "      <td>6</td>\n",
       "      <td>7</td>\n",
       "      <td>...</td>\n",
       "      <td>5</td>\n",
       "      <td>6</td>\n",
       "      <td>5</td>\n",
       "      <td>6</td>\n",
       "      <td>7</td>\n",
       "      <td>6</td>\n",
       "      <td>5</td>\n",
       "      <td>7</td>\n",
       "      <td>5</td>\n",
       "      <td>6</td>\n",
       "    </tr>\n",
       "    <tr>\n",
       "      <th>112486</th>\n",
       "      <td>3</td>\n",
       "      <td>3</td>\n",
       "      <td>0</td>\n",
       "      <td>0</td>\n",
       "      <td>4</td>\n",
       "      <td>4</td>\n",
       "      <td>1</td>\n",
       "      <td>4</td>\n",
       "      <td>3</td>\n",
       "      <td>0</td>\n",
       "      <td>...</td>\n",
       "      <td>1</td>\n",
       "      <td>0</td>\n",
       "      <td>2</td>\n",
       "      <td>1</td>\n",
       "      <td>3</td>\n",
       "      <td>0</td>\n",
       "      <td>0</td>\n",
       "      <td>2</td>\n",
       "      <td>3</td>\n",
       "      <td>4</td>\n",
       "    </tr>\n",
       "  </tbody>\n",
       "</table>\n",
       "<p>5 rows × 21 columns</p>\n",
       "</div>"
      ],
      "text/plain": [
       "date       2017-06-01  2017-06-02  2017-06-03  2017-06-04  2017-06-05  \\\n",
       "driver_id                                                               \n",
       "111556              2           2           0           0           4   \n",
       "111575              6           0           0           0           3   \n",
       "111779              3           3           0           0           0   \n",
       "111839              7           7           7           7           7   \n",
       "112486              3           3           0           0           4   \n",
       "\n",
       "date       2017-06-06  2017-06-07  2017-06-08  2017-06-09  2017-06-10  ...  \\\n",
       "driver_id                                                              ...   \n",
       "111556              2           2           3           4           0  ...   \n",
       "111575              6           7           5           0           0  ...   \n",
       "111779              3           1           4           1           0  ...   \n",
       "111839              5           5           6           6           7  ...   \n",
       "112486              4           1           4           3           0  ...   \n",
       "\n",
       "date       2017-06-12  2017-06-13  2017-06-14  2017-06-15  2017-06-16  \\\n",
       "driver_id                                                               \n",
       "111556              3           4           2           1           0   \n",
       "111575              5           6           6           6           0   \n",
       "111779              0           2           4           2           4   \n",
       "111839              5           6           5           6           7   \n",
       "112486              1           0           2           1           3   \n",
       "\n",
       "date       2017-06-17  2017-06-18  2017-06-19  2017-06-20  2017-06-21  \n",
       "driver_id                                                              \n",
       "111556              0           0           0           2           3  \n",
       "111575              0           0           8           7           5  \n",
       "111779              0           0           0           3           3  \n",
       "111839              6           5           7           5           6  \n",
       "112486              0           0           2           3           4  \n",
       "\n",
       "[5 rows x 21 columns]"
      ]
     },
     "execution_count": 17,
     "metadata": {},
     "output_type": "execute_result"
    }
   ],
   "source": [
    "# check pivoted data\n",
    "piv_driver_ping_summary[0:5]"
   ]
  },
  {
   "cell_type": "markdown",
   "metadata": {},
   "source": [
    "## Driver Data"
   ]
  },
  {
   "cell_type": "markdown",
   "metadata": {},
   "source": [
    "Contains the following:\n",
    "\n",
    "- driver_id: Unique driver id\n",
    "- gender: Gender of the driver\n",
    "- age: Driver’s age\n",
    "- number_of_kids: The number of kids the driver has"
   ]
  },
  {
   "cell_type": "code",
   "execution_count": 18,
   "metadata": {},
   "outputs": [
    {
     "name": "stdout",
     "output_type": "stream",
     "text": [
      "Data loading & sorting completed\n",
      "Total Observation:  2500\n"
     ]
    }
   ],
   "source": [
    "# Load driver data and reindex\n",
    "driver_data = read_csv(DATA+\"drivers.csv\", sortby=['driver_id'])"
   ]
  },
  {
   "cell_type": "code",
   "execution_count": 19,
   "metadata": {},
   "outputs": [
    {
     "name": "stdout",
     "output_type": "stream",
     "text": [
      "Total duplicates dropped:  0\n",
      "No missing values\n"
     ]
    }
   ],
   "source": [
    "# Check driver data for duplicates and missing values\n",
    "check_data(driver_data)"
   ]
  },
  {
   "cell_type": "markdown",
   "metadata": {},
   "source": [
    "## Merge Ping & Driver Data"
   ]
  },
  {
   "cell_type": "code",
   "execution_count": 20,
   "metadata": {},
   "outputs": [
    {
     "name": "stdout",
     "output_type": "stream",
     "text": [
      "(2483, 27)\n"
     ]
    },
    {
     "data": {
      "text/html": [
       "<div>\n",
       "<style scoped>\n",
       "    .dataframe tbody tr th:only-of-type {\n",
       "        vertical-align: middle;\n",
       "    }\n",
       "\n",
       "    .dataframe tbody tr th {\n",
       "        vertical-align: top;\n",
       "    }\n",
       "\n",
       "    .dataframe thead th {\n",
       "        text-align: right;\n",
       "    }\n",
       "</style>\n",
       "<table border=\"1\" class=\"dataframe\">\n",
       "  <thead>\n",
       "    <tr style=\"text-align: right;\">\n",
       "      <th></th>\n",
       "      <th>driver_id</th>\n",
       "      <th>2017-06-01</th>\n",
       "      <th>2017-06-02</th>\n",
       "      <th>2017-06-03</th>\n",
       "      <th>2017-06-04</th>\n",
       "      <th>2017-06-05</th>\n",
       "      <th>2017-06-06</th>\n",
       "      <th>2017-06-07</th>\n",
       "      <th>2017-06-08</th>\n",
       "      <th>2017-06-09</th>\n",
       "      <th>...</th>\n",
       "      <th>2017-06-17</th>\n",
       "      <th>2017-06-18</th>\n",
       "      <th>2017-06-19</th>\n",
       "      <th>2017-06-20</th>\n",
       "      <th>2017-06-21</th>\n",
       "      <th>gender</th>\n",
       "      <th>age</th>\n",
       "      <th>number_of_kids</th>\n",
       "      <th>isMALE</th>\n",
       "      <th>hasKids</th>\n",
       "    </tr>\n",
       "  </thead>\n",
       "  <tbody>\n",
       "    <tr>\n",
       "      <th>0</th>\n",
       "      <td>111556</td>\n",
       "      <td>2</td>\n",
       "      <td>2</td>\n",
       "      <td>0</td>\n",
       "      <td>0</td>\n",
       "      <td>4</td>\n",
       "      <td>2</td>\n",
       "      <td>2</td>\n",
       "      <td>3</td>\n",
       "      <td>4</td>\n",
       "      <td>...</td>\n",
       "      <td>0</td>\n",
       "      <td>0</td>\n",
       "      <td>0</td>\n",
       "      <td>2</td>\n",
       "      <td>3</td>\n",
       "      <td>FEMALE</td>\n",
       "      <td>49</td>\n",
       "      <td>4</td>\n",
       "      <td>0</td>\n",
       "      <td>1</td>\n",
       "    </tr>\n",
       "    <tr>\n",
       "      <th>1</th>\n",
       "      <td>111575</td>\n",
       "      <td>6</td>\n",
       "      <td>0</td>\n",
       "      <td>0</td>\n",
       "      <td>0</td>\n",
       "      <td>3</td>\n",
       "      <td>6</td>\n",
       "      <td>7</td>\n",
       "      <td>5</td>\n",
       "      <td>0</td>\n",
       "      <td>...</td>\n",
       "      <td>0</td>\n",
       "      <td>0</td>\n",
       "      <td>8</td>\n",
       "      <td>7</td>\n",
       "      <td>5</td>\n",
       "      <td>MALE</td>\n",
       "      <td>49</td>\n",
       "      <td>0</td>\n",
       "      <td>1</td>\n",
       "      <td>0</td>\n",
       "    </tr>\n",
       "    <tr>\n",
       "      <th>2</th>\n",
       "      <td>111779</td>\n",
       "      <td>3</td>\n",
       "      <td>3</td>\n",
       "      <td>0</td>\n",
       "      <td>0</td>\n",
       "      <td>0</td>\n",
       "      <td>3</td>\n",
       "      <td>1</td>\n",
       "      <td>4</td>\n",
       "      <td>1</td>\n",
       "      <td>...</td>\n",
       "      <td>0</td>\n",
       "      <td>0</td>\n",
       "      <td>0</td>\n",
       "      <td>3</td>\n",
       "      <td>3</td>\n",
       "      <td>MALE</td>\n",
       "      <td>26</td>\n",
       "      <td>0</td>\n",
       "      <td>1</td>\n",
       "      <td>0</td>\n",
       "    </tr>\n",
       "    <tr>\n",
       "      <th>3</th>\n",
       "      <td>111839</td>\n",
       "      <td>7</td>\n",
       "      <td>7</td>\n",
       "      <td>7</td>\n",
       "      <td>7</td>\n",
       "      <td>7</td>\n",
       "      <td>5</td>\n",
       "      <td>5</td>\n",
       "      <td>6</td>\n",
       "      <td>6</td>\n",
       "      <td>...</td>\n",
       "      <td>6</td>\n",
       "      <td>5</td>\n",
       "      <td>7</td>\n",
       "      <td>5</td>\n",
       "      <td>6</td>\n",
       "      <td>MALE</td>\n",
       "      <td>25</td>\n",
       "      <td>0</td>\n",
       "      <td>1</td>\n",
       "      <td>0</td>\n",
       "    </tr>\n",
       "    <tr>\n",
       "      <th>4</th>\n",
       "      <td>112486</td>\n",
       "      <td>3</td>\n",
       "      <td>3</td>\n",
       "      <td>0</td>\n",
       "      <td>0</td>\n",
       "      <td>4</td>\n",
       "      <td>4</td>\n",
       "      <td>1</td>\n",
       "      <td>4</td>\n",
       "      <td>3</td>\n",
       "      <td>...</td>\n",
       "      <td>0</td>\n",
       "      <td>0</td>\n",
       "      <td>2</td>\n",
       "      <td>3</td>\n",
       "      <td>4</td>\n",
       "      <td>FEMALE</td>\n",
       "      <td>44</td>\n",
       "      <td>1</td>\n",
       "      <td>0</td>\n",
       "      <td>1</td>\n",
       "    </tr>\n",
       "  </tbody>\n",
       "</table>\n",
       "<p>5 rows × 27 columns</p>\n",
       "</div>"
      ],
      "text/plain": [
       "   driver_id  2017-06-01  2017-06-02  2017-06-03  2017-06-04  2017-06-05  \\\n",
       "0     111556           2           2           0           0           4   \n",
       "1     111575           6           0           0           0           3   \n",
       "2     111779           3           3           0           0           0   \n",
       "3     111839           7           7           7           7           7   \n",
       "4     112486           3           3           0           0           4   \n",
       "\n",
       "   2017-06-06  2017-06-07  2017-06-08  2017-06-09  ...  2017-06-17  \\\n",
       "0           2           2           3           4  ...           0   \n",
       "1           6           7           5           0  ...           0   \n",
       "2           3           1           4           1  ...           0   \n",
       "3           5           5           6           6  ...           6   \n",
       "4           4           1           4           3  ...           0   \n",
       "\n",
       "   2017-06-18  2017-06-19  2017-06-20  2017-06-21  gender  age  \\\n",
       "0           0           0           2           3  FEMALE   49   \n",
       "1           0           8           7           5    MALE   49   \n",
       "2           0           0           3           3    MALE   26   \n",
       "3           5           7           5           6    MALE   25   \n",
       "4           0           2           3           4  FEMALE   44   \n",
       "\n",
       "   number_of_kids  isMALE  hasKids  \n",
       "0               4       0        1  \n",
       "1               0       1        0  \n",
       "2               0       1        0  \n",
       "3               0       1        0  \n",
       "4               1       0        1  \n",
       "\n",
       "[5 rows x 27 columns]"
      ]
     },
     "execution_count": 20,
     "metadata": {},
     "output_type": "execute_result"
    }
   ],
   "source": [
    "# merge driver data and driver ping summary data\n",
    "merged_data = pd.merge(piv_driver_ping_summary, driver_data, how='left', on=['driver_id'])\n",
    "\n",
    "# create indicator variables\n",
    "merged_data['isMALE'] = (merged_data['gender'] == \"MALE\").astype(int)\n",
    "merged_data['hasKids'] = (merged_data['number_of_kids'] > 0).astype(int)\n",
    "\n",
    "# Show sample\n",
    "print(merged_data.shape)\n",
    "merged_data[0:5]"
   ]
  },
  {
   "cell_type": "code",
   "execution_count": 21,
   "metadata": {},
   "outputs": [],
   "source": [
    "# save csv\n",
    "merged_data.to_csv(DATA+\"merged_driver_and_ping_data.csv\", index=True)"
   ]
  },
  {
   "cell_type": "markdown",
   "metadata": {},
   "source": [
    "## Sequence Merged Ping & Driver Data\n",
    "Create multiple sequences for merged ping and driver data"
   ]
  },
  {
   "cell_type": "code",
   "execution_count": 22,
   "metadata": {},
   "outputs": [],
   "source": [
    "def strided_app(a, L, S, index, tstart, tend, auxstart, auxend):  \n",
    "    '''\n",
    "    creates a strided dataset for each driver\n",
    "    Modified from https://stackoverflow.com/questions/40084931/taking-subarrays-from-numpy-array-with-given-stride-stepsize\n",
    "    Window len = L, Stride len/stepsize = S\n",
    "    tstart, tend = start and end column time features\n",
    "    auxstart, auxend = start and end column auxillary features\n",
    "    '''\n",
    "    a_main = a.iloc[tstart:tend]\n",
    "    nrows = ((a_main.size-L)//S)+1\n",
    "    n = a_main.strides[0]\n",
    "    a_new = np.lib.stride_tricks.as_strided(a, shape=(nrows,L), strides=(S*n,n))\n",
    "    \n",
    "    other_vars = np.tile(a[auxstart:auxend], (nrows,1))\n",
    "    a_new_all = np.zeros((nrows, L+(auxend-auxstart)))\n",
    "    \n",
    "    \n",
    "    a_new_all[:,0:L] = a_new\n",
    "    a_new_all[:,L:] = other_vars\n",
    "    a_new_all = pd.DataFrame(a_new_all)\n",
    "    a_new_all = a_new_all.set_index(index.repeat(nrows))\n",
    "    return a_new_all\n",
    "\n",
    "\n",
    "def prepare_lstm_data(data, window, stride, tstart, tend, auxstart, auxend):\n",
    "    '''\n",
    "    convert the data for lstm\n",
    "    '''\n",
    "    ind = data.index\n",
    "    transformed_data = pd.DataFrame()\n",
    "    for j in range(len(data)):\n",
    "        transformed_data = transformed_data.append(strided_app(data.iloc[j], window, stride, ind[j], tstart, tend, auxstart, auxend))\n",
    "    transformed_data.columns = [\"day_{}\".format(i) for i in range(0,window)] + [\"age\", \"number_of_kids\", \"isMALE\"]\n",
    "    return transformed_data\n"
   ]
  },
  {
   "cell_type": "code",
   "execution_count": 23,
   "metadata": {},
   "outputs": [],
   "source": [
    "# Define data preparation parameters\n",
    "t_start, t_end = 0, 21\n",
    "aux_start, aux_end = 21, 24\n",
    "window = 8\n",
    "stride = 1"
   ]
  },
  {
   "cell_type": "code",
   "execution_count": 24,
   "metadata": {},
   "outputs": [],
   "source": [
    "index_merged_data = merged_data.set_index(['driver_id'])\n",
    "index_merged_data = index_merged_data.drop(['gender', 'hasKids'], axis=1)"
   ]
  },
  {
   "cell_type": "code",
   "execution_count": 25,
   "metadata": {},
   "outputs": [
    {
     "name": "stderr",
     "output_type": "stream",
     "text": [
      "c:\\users\\julian.addison\\appdata\\local\\continuum\\anaconda3\\envs\\gpu_env\\lib\\site-packages\\ipykernel_launcher.py:11: FutureWarning: Series.strides is deprecated and will be removed in a future version\n",
      "  # This is added back by InteractiveShellApp.init_path()\n"
     ]
    },
    {
     "data": {
      "text/plain": [
       "'Original data: (2483, 24) was modified to (34762, 11)'"
      ]
     },
     "execution_count": 25,
     "metadata": {},
     "output_type": "execute_result"
    }
   ],
   "source": [
    "transformed_data = prepare_lstm_data(index_merged_data, window, stride, t_start, t_end, aux_start, aux_end)\n",
    "\n",
    "\"Original data: {} was modified to {}\".format(index_merged_data.shape, transformed_data.shape)"
   ]
  },
  {
   "cell_type": "code",
   "execution_count": 26,
   "metadata": {},
   "outputs": [],
   "source": [
    "# save csv\n",
    "transformed_data.to_csv(DATA+\"sequence_merged_driver_and_ping_data.csv\", index=True)"
   ]
  }
 ],
 "metadata": {
  "kernelspec": {
   "display_name": "Python 3",
   "language": "python",
   "name": "python3"
  },
  "language_info": {
   "codemirror_mode": {
    "name": "ipython",
    "version": 3
   },
   "file_extension": ".py",
   "mimetype": "text/x-python",
   "name": "python",
   "nbconvert_exporter": "python",
   "pygments_lexer": "ipython3",
   "version": "3.6.8"
  }
 },
 "nbformat": 4,
 "nbformat_minor": 2
}
